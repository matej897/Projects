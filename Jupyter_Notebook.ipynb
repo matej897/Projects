{
  "metadata": {
    "kernelspec": {
      "name": "python",
      "display_name": "Pyolite",
      "language": "python"
    },
    "language_info": {
      "codemirror_mode": {
        "name": "python",
        "version": 3
      },
      "file_extension": ".py",
      "mimetype": "text/x-python",
      "name": "python",
      "nbconvert_exporter": "python",
      "pygments_lexer": "ipython3",
      "version": "3.8"
    }
  },
  "nbformat_minor": 4,
  "nbformat": 4,
  "cells": [
    {
      "cell_type": "markdown",
      "source": "<center>\n    <img src=\"https://s3-api.us-geo.objectstorage.softlayer.net/cf-courses-data/CognitiveClass/Logos/organization_logo/organization_logo.png\" width=\"300\" alt=\"cognitiveclass.ai logo\"  />\n</center>\n",
      "metadata": {}
    },
    {
      "cell_type": "markdown",
      "source": "#### Add your code below following the instructions given in the course\n",
      "metadata": {}
    },
    {
      "cell_type": "markdown",
      "source": "<h1><center>My Jupyter Notebook on IBM Watson Studio!</center></h1>",
      "metadata": {}
    },
    {
      "cell_type": "markdown",
      "source": "__Matej__ <br> Student",
      "metadata": {}
    },
    {
      "cell_type": "markdown",
      "source": "_I would like to work in Data science because I wish to improve people s lifes_",
      "metadata": {}
    },
    {
      "cell_type": "markdown",
      "source": "<h1><center> The code yields the product of 3 and 4 ! </center></h1> ",
      "metadata": {}
    },
    {
      "cell_type": "code",
      "source": "print(3 * 4)",
      "metadata": {
        "trusted": true
      },
      "execution_count": 6,
      "outputs": [
        {
          "name": "stdout",
          "text": "12\n",
          "output_type": "stream"
        }
      ]
    },
    {
      "cell_type": "markdown",
      "source": "| Heading | Heading |\n| ----| ----|\n| text   | text |\n| text | text |\n\n[IBM link](https://www.ibm.com/sk-en)\n\n- [x]",
      "metadata": {}
    },
    {
      "cell_type": "code",
      "source": "",
      "metadata": {},
      "execution_count": null,
      "outputs": []
    }
  ]
}