{
 "cells": [
  {
   "cell_type": "markdown",
   "id": "372ba88c",
   "metadata": {},
   "source": [
    "# <font color='orange'>Titanic</font>\n",
    "<font color='orange'>Matej Šembera, 24.8.2022</font>\n",
    "\n",
    "***\n",
    "<br>\n",
    "\n",
    "**Introduction:** This project is my solution to the competition called Titanic, which is accessible on Kaggle. \n",
    "\n",
    "__[link to the competition](https://www.kaggle.com/competitions/titanic/overview)__\n",
    "\n",
    "**Goal:** In this competition we will try to predict if the passenger survives the Titanic disaster using machine learning. \n",
    "\n",
    "**Sections**: Before we will dive in the machine learning we will try to explore and prepare the data. To make this notebook transparent, I divided it into several parts. <br>\n",
    "\n",
    "1. Importing libraries, files and getting know the data<br>\n",
    "2. Data cleaning\n",
    "3. Exploratory data analysis\n",
    "4. Feature engineering\n",
    "5. Machine learning\n",
    "\n",
    "**Result**: We predicted if passanger survives or not with 76.555% accuracy.\n"
   ]
  },
  {
   "cell_type": "markdown",
   "id": "b0ac7d1a",
   "metadata": {},
   "source": [
    "## <font color='orange'>1. Importing libraries, files and getting know the data</font>"
   ]
  },
  {
   "cell_type": "code",
   "execution_count": 1,
   "id": "7cf74d76",
   "metadata": {},
   "outputs": [],
   "source": [
    "#importing basic libraries\n",
    "import pandas as pd\n",
    "import numpy as np\n",
    "import seaborn as sns \n",
    "import matplotlib.pyplot as plt\n",
    "\n",
    "#machine learning\n",
    "from sklearn.model_selection import train_test_split\n",
    "from sklearn.model_selection import cross_val_score, KFold\n",
    "from sklearn.metrics import mean_squared_error\n",
    "from sklearn.neighbors import KNeighborsClassifier\n",
    "from sklearn.metrics import classification_report, confusion_matrix, roc_curve, roc_auc_score\n",
    "from sklearn.linear_model import LogisticRegression\n",
    "from sklearn import svm\n",
    "from sklearn.ensemble import RandomForestClassifier\n",
    "from sklearn.model_selection import GridSearchCV\n",
    "from  sklearn.linear_model import Ridge\n",
    "\n",
    "\n",
    "#importing data\n",
    "data = pd.read_csv(\"C:\\\\Users\\\\sembm\\\\OneDrive\\\\Dokumenty\\\\Data_Science\\\\Files\\\\Titanic_train.csv\")\n",
    "data_test = pd.read_csv(\"C:\\\\Users\\\\sembm\\\\OneDrive\\\\Dokumenty\\\\Data_Science\\\\Files\\\\Titanic_test.csv\")\n",
    "data_test_2 = pd.read_csv(\"C:\\\\Users\\\\sembm\\\\OneDrive\\\\Dokumenty\\\\Data_Science\\\\Files\\\\Titanic_test.csv\")\n",
    "\n",
    "data_df = pd.DataFrame(data)\n",
    "data_test_df = pd.DataFrame(data_test)\n",
    "data_test_2_df = pd.DataFrame(data_test_2)"
   ]
  },
  {
   "cell_type": "code",
   "execution_count": 2,
   "id": "65d1efc4",
   "metadata": {},
   "outputs": [
    {
     "data": {
      "text/html": [
       "<div>\n",
       "<style scoped>\n",
       "    .dataframe tbody tr th:only-of-type {\n",
       "        vertical-align: middle;\n",
       "    }\n",
       "\n",
       "    .dataframe tbody tr th {\n",
       "        vertical-align: top;\n",
       "    }\n",
       "\n",
       "    .dataframe thead th {\n",
       "        text-align: right;\n",
       "    }\n",
       "</style>\n",
       "<table border=\"1\" class=\"dataframe\">\n",
       "  <thead>\n",
       "    <tr style=\"text-align: right;\">\n",
       "      <th></th>\n",
       "      <th>PassengerId</th>\n",
       "      <th>Survived</th>\n",
       "      <th>Pclass</th>\n",
       "      <th>Name</th>\n",
       "      <th>Sex</th>\n",
       "      <th>Age</th>\n",
       "      <th>SibSp</th>\n",
       "      <th>Parch</th>\n",
       "      <th>Ticket</th>\n",
       "      <th>Fare</th>\n",
       "      <th>Cabin</th>\n",
       "      <th>Embarked</th>\n",
       "    </tr>\n",
       "  </thead>\n",
       "  <tbody>\n",
       "    <tr>\n",
       "      <th>0</th>\n",
       "      <td>1</td>\n",
       "      <td>0</td>\n",
       "      <td>3</td>\n",
       "      <td>Braund, Mr. Owen Harris</td>\n",
       "      <td>male</td>\n",
       "      <td>22.0</td>\n",
       "      <td>1</td>\n",
       "      <td>0</td>\n",
       "      <td>A/5 21171</td>\n",
       "      <td>7.2500</td>\n",
       "      <td>NaN</td>\n",
       "      <td>S</td>\n",
       "    </tr>\n",
       "    <tr>\n",
       "      <th>1</th>\n",
       "      <td>2</td>\n",
       "      <td>1</td>\n",
       "      <td>1</td>\n",
       "      <td>Cumings, Mrs. John Bradley (Florence Briggs Th...</td>\n",
       "      <td>female</td>\n",
       "      <td>38.0</td>\n",
       "      <td>1</td>\n",
       "      <td>0</td>\n",
       "      <td>PC 17599</td>\n",
       "      <td>71.2833</td>\n",
       "      <td>C85</td>\n",
       "      <td>C</td>\n",
       "    </tr>\n",
       "    <tr>\n",
       "      <th>2</th>\n",
       "      <td>3</td>\n",
       "      <td>1</td>\n",
       "      <td>3</td>\n",
       "      <td>Heikkinen, Miss. Laina</td>\n",
       "      <td>female</td>\n",
       "      <td>26.0</td>\n",
       "      <td>0</td>\n",
       "      <td>0</td>\n",
       "      <td>STON/O2. 3101282</td>\n",
       "      <td>7.9250</td>\n",
       "      <td>NaN</td>\n",
       "      <td>S</td>\n",
       "    </tr>\n",
       "    <tr>\n",
       "      <th>3</th>\n",
       "      <td>4</td>\n",
       "      <td>1</td>\n",
       "      <td>1</td>\n",
       "      <td>Futrelle, Mrs. Jacques Heath (Lily May Peel)</td>\n",
       "      <td>female</td>\n",
       "      <td>35.0</td>\n",
       "      <td>1</td>\n",
       "      <td>0</td>\n",
       "      <td>113803</td>\n",
       "      <td>53.1000</td>\n",
       "      <td>C123</td>\n",
       "      <td>S</td>\n",
       "    </tr>\n",
       "    <tr>\n",
       "      <th>4</th>\n",
       "      <td>5</td>\n",
       "      <td>0</td>\n",
       "      <td>3</td>\n",
       "      <td>Allen, Mr. William Henry</td>\n",
       "      <td>male</td>\n",
       "      <td>35.0</td>\n",
       "      <td>0</td>\n",
       "      <td>0</td>\n",
       "      <td>373450</td>\n",
       "      <td>8.0500</td>\n",
       "      <td>NaN</td>\n",
       "      <td>S</td>\n",
       "    </tr>\n",
       "  </tbody>\n",
       "</table>\n",
       "</div>"
      ],
      "text/plain": [
       "   PassengerId  Survived  Pclass  \\\n",
       "0            1         0       3   \n",
       "1            2         1       1   \n",
       "2            3         1       3   \n",
       "3            4         1       1   \n",
       "4            5         0       3   \n",
       "\n",
       "                                                Name     Sex   Age  SibSp  \\\n",
       "0                            Braund, Mr. Owen Harris    male  22.0      1   \n",
       "1  Cumings, Mrs. John Bradley (Florence Briggs Th...  female  38.0      1   \n",
       "2                             Heikkinen, Miss. Laina  female  26.0      0   \n",
       "3       Futrelle, Mrs. Jacques Heath (Lily May Peel)  female  35.0      1   \n",
       "4                           Allen, Mr. William Henry    male  35.0      0   \n",
       "\n",
       "   Parch            Ticket     Fare Cabin Embarked  \n",
       "0      0         A/5 21171   7.2500   NaN        S  \n",
       "1      0          PC 17599  71.2833   C85        C  \n",
       "2      0  STON/O2. 3101282   7.9250   NaN        S  \n",
       "3      0            113803  53.1000  C123        S  \n",
       "4      0            373450   8.0500   NaN        S  "
      ]
     },
     "execution_count": 2,
     "metadata": {},
     "output_type": "execute_result"
    }
   ],
   "source": [
    "data_df.head(5)"
   ]
  },
  {
   "cell_type": "markdown",
   "id": "19c22f3f",
   "metadata": {},
   "source": [
    "Now when we have some basic understanding of the file, we will progress to data cleaning phase. "
   ]
  },
  {
   "cell_type": "markdown",
   "id": "ff09dbf4",
   "metadata": {},
   "source": [
    "## <font color='orange'>2. Data cleaning</font>"
   ]
  },
  {
   "cell_type": "markdown",
   "id": "4dcc866b",
   "metadata": {},
   "source": [
    "The first column of our dataframe is PassengerId, which can affect our machine learning model. We will drop the column. "
   ]
  },
  {
   "cell_type": "code",
   "execution_count": 3,
   "id": "e1faf619",
   "metadata": {},
   "outputs": [
    {
     "data": {
      "text/html": [
       "<div>\n",
       "<style scoped>\n",
       "    .dataframe tbody tr th:only-of-type {\n",
       "        vertical-align: middle;\n",
       "    }\n",
       "\n",
       "    .dataframe tbody tr th {\n",
       "        vertical-align: top;\n",
       "    }\n",
       "\n",
       "    .dataframe thead th {\n",
       "        text-align: right;\n",
       "    }\n",
       "</style>\n",
       "<table border=\"1\" class=\"dataframe\">\n",
       "  <thead>\n",
       "    <tr style=\"text-align: right;\">\n",
       "      <th></th>\n",
       "      <th>Survived</th>\n",
       "      <th>Pclass</th>\n",
       "      <th>Name</th>\n",
       "      <th>Sex</th>\n",
       "      <th>Age</th>\n",
       "      <th>SibSp</th>\n",
       "      <th>Parch</th>\n",
       "      <th>Ticket</th>\n",
       "      <th>Fare</th>\n",
       "      <th>Cabin</th>\n",
       "      <th>Embarked</th>\n",
       "    </tr>\n",
       "  </thead>\n",
       "  <tbody>\n",
       "    <tr>\n",
       "      <th>0</th>\n",
       "      <td>0</td>\n",
       "      <td>3</td>\n",
       "      <td>Braund, Mr. Owen Harris</td>\n",
       "      <td>male</td>\n",
       "      <td>22.0</td>\n",
       "      <td>1</td>\n",
       "      <td>0</td>\n",
       "      <td>A/5 21171</td>\n",
       "      <td>7.2500</td>\n",
       "      <td>NaN</td>\n",
       "      <td>S</td>\n",
       "    </tr>\n",
       "    <tr>\n",
       "      <th>1</th>\n",
       "      <td>1</td>\n",
       "      <td>1</td>\n",
       "      <td>Cumings, Mrs. John Bradley (Florence Briggs Th...</td>\n",
       "      <td>female</td>\n",
       "      <td>38.0</td>\n",
       "      <td>1</td>\n",
       "      <td>0</td>\n",
       "      <td>PC 17599</td>\n",
       "      <td>71.2833</td>\n",
       "      <td>C85</td>\n",
       "      <td>C</td>\n",
       "    </tr>\n",
       "    <tr>\n",
       "      <th>2</th>\n",
       "      <td>1</td>\n",
       "      <td>3</td>\n",
       "      <td>Heikkinen, Miss. Laina</td>\n",
       "      <td>female</td>\n",
       "      <td>26.0</td>\n",
       "      <td>0</td>\n",
       "      <td>0</td>\n",
       "      <td>STON/O2. 3101282</td>\n",
       "      <td>7.9250</td>\n",
       "      <td>NaN</td>\n",
       "      <td>S</td>\n",
       "    </tr>\n",
       "    <tr>\n",
       "      <th>3</th>\n",
       "      <td>1</td>\n",
       "      <td>1</td>\n",
       "      <td>Futrelle, Mrs. Jacques Heath (Lily May Peel)</td>\n",
       "      <td>female</td>\n",
       "      <td>35.0</td>\n",
       "      <td>1</td>\n",
       "      <td>0</td>\n",
       "      <td>113803</td>\n",
       "      <td>53.1000</td>\n",
       "      <td>C123</td>\n",
       "      <td>S</td>\n",
       "    </tr>\n",
       "    <tr>\n",
       "      <th>4</th>\n",
       "      <td>0</td>\n",
       "      <td>3</td>\n",
       "      <td>Allen, Mr. William Henry</td>\n",
       "      <td>male</td>\n",
       "      <td>35.0</td>\n",
       "      <td>0</td>\n",
       "      <td>0</td>\n",
       "      <td>373450</td>\n",
       "      <td>8.0500</td>\n",
       "      <td>NaN</td>\n",
       "      <td>S</td>\n",
       "    </tr>\n",
       "  </tbody>\n",
       "</table>\n",
       "</div>"
      ],
      "text/plain": [
       "   Survived  Pclass                                               Name  \\\n",
       "0         0       3                            Braund, Mr. Owen Harris   \n",
       "1         1       1  Cumings, Mrs. John Bradley (Florence Briggs Th...   \n",
       "2         1       3                             Heikkinen, Miss. Laina   \n",
       "3         1       1       Futrelle, Mrs. Jacques Heath (Lily May Peel)   \n",
       "4         0       3                           Allen, Mr. William Henry   \n",
       "\n",
       "      Sex   Age  SibSp  Parch            Ticket     Fare Cabin Embarked  \n",
       "0    male  22.0      1      0         A/5 21171   7.2500   NaN        S  \n",
       "1  female  38.0      1      0          PC 17599  71.2833   C85        C  \n",
       "2  female  26.0      0      0  STON/O2. 3101282   7.9250   NaN        S  \n",
       "3  female  35.0      1      0            113803  53.1000  C123        S  \n",
       "4    male  35.0      0      0            373450   8.0500   NaN        S  "
      ]
     },
     "execution_count": 3,
     "metadata": {},
     "output_type": "execute_result"
    }
   ],
   "source": [
    "data_df = data_df.drop(\"PassengerId\", axis = 1)\n",
    "data_test_df = data_test_df.drop(\"PassengerId\", axis = 1)\n",
    "data_df.head(5)"
   ]
  },
  {
   "cell_type": "markdown",
   "id": "15de23bb",
   "metadata": {},
   "source": [
    "Now we will focus on missing data. "
   ]
  },
  {
   "cell_type": "code",
   "execution_count": 4,
   "id": "145496bd",
   "metadata": {},
   "outputs": [
    {
     "name": "stdout",
     "output_type": "stream",
     "text": [
      "Cabin       687\n",
      "Age         177\n",
      "Embarked      2\n",
      "Survived      0\n",
      "Pclass        0\n",
      "Name          0\n",
      "Sex           0\n",
      "SibSp         0\n",
      "Parch         0\n",
      "Ticket        0\n",
      "Fare          0\n",
      "dtype: int64\n"
     ]
    }
   ],
   "source": [
    "missing_data = data_df.isnull().sum()\n",
    "missing_data = missing_data.sort_values(ascending=False)\n",
    "print(missing_data)"
   ]
  },
  {
   "cell_type": "code",
   "execution_count": 5,
   "id": "2761be79",
   "metadata": {},
   "outputs": [
    {
     "data": {
      "text/plain": [
       "(891, 11)"
      ]
     },
     "execution_count": 5,
     "metadata": {},
     "output_type": "execute_result"
    }
   ],
   "source": [
    "data_df.shape"
   ]
  },
  {
   "cell_type": "markdown",
   "id": "2e1dab24",
   "metadata": {},
   "source": [
    "Around 20% of passengers have a missing value in their Age column. We will replace it by median of the\n",
    "passanger's class. Also notice that each name does have a title like Mr., Mrs. or Miss.. The title can help us determine someone's age.  "
   ]
  },
  {
   "cell_type": "code",
   "execution_count": 6,
   "id": "b5c62d74",
   "metadata": {},
   "outputs": [
    {
     "data": {
      "text/html": [
       "<div>\n",
       "<style scoped>\n",
       "    .dataframe tbody tr th:only-of-type {\n",
       "        vertical-align: middle;\n",
       "    }\n",
       "\n",
       "    .dataframe tbody tr th {\n",
       "        vertical-align: top;\n",
       "    }\n",
       "\n",
       "    .dataframe thead th {\n",
       "        text-align: right;\n",
       "    }\n",
       "</style>\n",
       "<table border=\"1\" class=\"dataframe\">\n",
       "  <thead>\n",
       "    <tr style=\"text-align: right;\">\n",
       "      <th></th>\n",
       "      <th>Survived</th>\n",
       "      <th>Pclass</th>\n",
       "      <th>Name</th>\n",
       "      <th>Sex</th>\n",
       "      <th>Age</th>\n",
       "      <th>SibSp</th>\n",
       "      <th>Parch</th>\n",
       "      <th>Ticket</th>\n",
       "      <th>Fare</th>\n",
       "      <th>Cabin</th>\n",
       "      <th>Embarked</th>\n",
       "      <th>Title</th>\n",
       "      <th>FarePerPassenger</th>\n",
       "      <th>Cabin Letter</th>\n",
       "    </tr>\n",
       "  </thead>\n",
       "  <tbody>\n",
       "    <tr>\n",
       "      <th>0</th>\n",
       "      <td>0</td>\n",
       "      <td>3</td>\n",
       "      <td>Braund, Mr. Owen Harris</td>\n",
       "      <td>male</td>\n",
       "      <td>22.0</td>\n",
       "      <td>1</td>\n",
       "      <td>0</td>\n",
       "      <td>A/5 21171</td>\n",
       "      <td>7.2500</td>\n",
       "      <td>&lt;NA&gt;</td>\n",
       "      <td>S</td>\n",
       "      <td>Mr</td>\n",
       "      <td>3.62500</td>\n",
       "      <td>&lt;NA&gt;</td>\n",
       "    </tr>\n",
       "    <tr>\n",
       "      <th>1</th>\n",
       "      <td>1</td>\n",
       "      <td>1</td>\n",
       "      <td>Cumings, Mrs. John Bradley (Florence Briggs Th...</td>\n",
       "      <td>female</td>\n",
       "      <td>38.0</td>\n",
       "      <td>1</td>\n",
       "      <td>0</td>\n",
       "      <td>PC 17599</td>\n",
       "      <td>71.2833</td>\n",
       "      <td>C85</td>\n",
       "      <td>C</td>\n",
       "      <td>Mrs</td>\n",
       "      <td>35.64165</td>\n",
       "      <td>C</td>\n",
       "    </tr>\n",
       "    <tr>\n",
       "      <th>2</th>\n",
       "      <td>1</td>\n",
       "      <td>3</td>\n",
       "      <td>Heikkinen, Miss. Laina</td>\n",
       "      <td>female</td>\n",
       "      <td>26.0</td>\n",
       "      <td>0</td>\n",
       "      <td>0</td>\n",
       "      <td>STON/O2. 3101282</td>\n",
       "      <td>7.9250</td>\n",
       "      <td>&lt;NA&gt;</td>\n",
       "      <td>S</td>\n",
       "      <td>Miss</td>\n",
       "      <td>7.92500</td>\n",
       "      <td>&lt;NA&gt;</td>\n",
       "    </tr>\n",
       "    <tr>\n",
       "      <th>3</th>\n",
       "      <td>1</td>\n",
       "      <td>1</td>\n",
       "      <td>Futrelle, Mrs. Jacques Heath (Lily May Peel)</td>\n",
       "      <td>female</td>\n",
       "      <td>35.0</td>\n",
       "      <td>1</td>\n",
       "      <td>0</td>\n",
       "      <td>113803</td>\n",
       "      <td>53.1000</td>\n",
       "      <td>C123</td>\n",
       "      <td>S</td>\n",
       "      <td>Mrs</td>\n",
       "      <td>26.55000</td>\n",
       "      <td>C</td>\n",
       "    </tr>\n",
       "    <tr>\n",
       "      <th>4</th>\n",
       "      <td>0</td>\n",
       "      <td>3</td>\n",
       "      <td>Allen, Mr. William Henry</td>\n",
       "      <td>male</td>\n",
       "      <td>35.0</td>\n",
       "      <td>0</td>\n",
       "      <td>0</td>\n",
       "      <td>373450</td>\n",
       "      <td>8.0500</td>\n",
       "      <td>&lt;NA&gt;</td>\n",
       "      <td>S</td>\n",
       "      <td>Mr</td>\n",
       "      <td>8.05000</td>\n",
       "      <td>&lt;NA&gt;</td>\n",
       "    </tr>\n",
       "  </tbody>\n",
       "</table>\n",
       "</div>"
      ],
      "text/plain": [
       "   Survived  Pclass                                               Name  \\\n",
       "0         0       3                            Braund, Mr. Owen Harris   \n",
       "1         1       1  Cumings, Mrs. John Bradley (Florence Briggs Th...   \n",
       "2         1       3                             Heikkinen, Miss. Laina   \n",
       "3         1       1       Futrelle, Mrs. Jacques Heath (Lily May Peel)   \n",
       "4         0       3                           Allen, Mr. William Henry   \n",
       "\n",
       "      Sex   Age  SibSp  Parch            Ticket     Fare Cabin Embarked Title  \\\n",
       "0    male  22.0      1      0         A/5 21171   7.2500  <NA>        S    Mr   \n",
       "1  female  38.0      1      0          PC 17599  71.2833   C85        C   Mrs   \n",
       "2  female  26.0      0      0  STON/O2. 3101282   7.9250  <NA>        S  Miss   \n",
       "3  female  35.0      1      0            113803  53.1000  C123        S   Mrs   \n",
       "4    male  35.0      0      0            373450   8.0500  <NA>        S    Mr   \n",
       "\n",
       "   FarePerPassenger Cabin Letter  \n",
       "0           3.62500         <NA>  \n",
       "1          35.64165            C  \n",
       "2           7.92500         <NA>  \n",
       "3          26.55000            C  \n",
       "4           8.05000         <NA>  "
      ]
     },
     "execution_count": 6,
     "metadata": {},
     "output_type": "execute_result"
    }
   ],
   "source": [
    "#converting Name column into string, so that we can create a new column Title\n",
    "data_df[\"Name\"] = data_df[\"Name\"].astype(\"string\")\n",
    "data_df['Title'] = data_df['Name'].map(lambda name:name.split(',')[1].split('.')[0].strip())\n",
    "\n",
    "#test data\n",
    "data_test_df[\"Name\"] = data_test_df[\"Name\"].astype(\"string\")\n",
    "data_test_df['Title'] = data_test_df['Name'].map(lambda name:name.split(',')[1].split('.')[0].strip())\n",
    "\n",
    "#creating Fare per person column\n",
    "data_df[\"FarePerPassenger\"] = data_df[\"Fare\"] / (data_df[\"SibSp\"] + data_df[\"Parch\"] + 1)\n",
    "#test data\n",
    "data_test_df[\"FarePerPassenger\"] = data_test_df[\"Fare\"] / (data_test_df[\"SibSp\"] + data_test_df[\"Parch\"] + 1)\n",
    "\n",
    "#creating new column cabin letter\n",
    "data_df[\"Cabin\"] = data_df[\"Cabin\"].astype(\"string\")\n",
    "data_df[\"Cabin Letter\"] = data_df[\"Cabin\"].str[0]\n",
    "#test data\n",
    "data_test_df[\"Cabin\"] = data_test_df[\"Cabin\"].astype(\"string\")\n",
    "data_test_df[\"Cabin Letter\"] = data_test_df[\"Cabin\"].str[0]\n",
    "\n",
    "data_df.head(5)"
   ]
  },
  {
   "cell_type": "code",
   "execution_count": 7,
   "id": "172b59f7",
   "metadata": {},
   "outputs": [
    {
     "name": "stdout",
     "output_type": "stream",
     "text": [
      "37.0 29.0 24.0\n"
     ]
    }
   ],
   "source": [
    "#calculating the median age of people with title Mr\n",
    "data_df_1 = data_df[data_df[\"Pclass\"] == 1]\n",
    "median_1 = data_df_1[\"Age\"].median()\n",
    "\n",
    "#calculating the median age of people with title Mrs\n",
    "data_df_2 = data_df[data_df[\"Pclass\"] == 2]\n",
    "median_2 = data_df_2[\"Age\"].median()\n",
    "\n",
    "#calculating the median age of people with title Miss\n",
    "data_df_3 = data_df[data_df[\"Pclass\"] == 3]\n",
    "median_3 = data_df_3[\"Age\"].median()\n",
    "\n",
    "\n",
    "print(median_1, median_2, median_3)"
   ]
  },
  {
   "cell_type": "code",
   "execution_count": 8,
   "id": "df265c23",
   "metadata": {},
   "outputs": [
    {
     "data": {
      "text/html": [
       "<div>\n",
       "<style scoped>\n",
       "    .dataframe tbody tr th:only-of-type {\n",
       "        vertical-align: middle;\n",
       "    }\n",
       "\n",
       "    .dataframe tbody tr th {\n",
       "        vertical-align: top;\n",
       "    }\n",
       "\n",
       "    .dataframe thead th {\n",
       "        text-align: right;\n",
       "    }\n",
       "</style>\n",
       "<table border=\"1\" class=\"dataframe\">\n",
       "  <thead>\n",
       "    <tr style=\"text-align: right;\">\n",
       "      <th></th>\n",
       "      <th>Survived</th>\n",
       "      <th>Pclass</th>\n",
       "      <th>Name</th>\n",
       "      <th>Sex</th>\n",
       "      <th>Age</th>\n",
       "      <th>SibSp</th>\n",
       "      <th>Parch</th>\n",
       "      <th>Ticket</th>\n",
       "      <th>Fare</th>\n",
       "      <th>Cabin</th>\n",
       "      <th>Embarked</th>\n",
       "      <th>Title</th>\n",
       "      <th>FarePerPassenger</th>\n",
       "      <th>Cabin Letter</th>\n",
       "    </tr>\n",
       "  </thead>\n",
       "  <tbody>\n",
       "    <tr>\n",
       "      <th>0</th>\n",
       "      <td>0</td>\n",
       "      <td>3</td>\n",
       "      <td>Braund, Mr. Owen Harris</td>\n",
       "      <td>male</td>\n",
       "      <td>22.0</td>\n",
       "      <td>1</td>\n",
       "      <td>0</td>\n",
       "      <td>A/5 21171</td>\n",
       "      <td>7.2500</td>\n",
       "      <td>&lt;NA&gt;</td>\n",
       "      <td>S</td>\n",
       "      <td>Mr</td>\n",
       "      <td>3.62500</td>\n",
       "      <td>&lt;NA&gt;</td>\n",
       "    </tr>\n",
       "    <tr>\n",
       "      <th>1</th>\n",
       "      <td>1</td>\n",
       "      <td>1</td>\n",
       "      <td>Cumings, Mrs. John Bradley (Florence Briggs Th...</td>\n",
       "      <td>female</td>\n",
       "      <td>38.0</td>\n",
       "      <td>1</td>\n",
       "      <td>0</td>\n",
       "      <td>PC 17599</td>\n",
       "      <td>71.2833</td>\n",
       "      <td>C85</td>\n",
       "      <td>C</td>\n",
       "      <td>Mrs</td>\n",
       "      <td>35.64165</td>\n",
       "      <td>C</td>\n",
       "    </tr>\n",
       "    <tr>\n",
       "      <th>2</th>\n",
       "      <td>1</td>\n",
       "      <td>3</td>\n",
       "      <td>Heikkinen, Miss. Laina</td>\n",
       "      <td>female</td>\n",
       "      <td>26.0</td>\n",
       "      <td>0</td>\n",
       "      <td>0</td>\n",
       "      <td>STON/O2. 3101282</td>\n",
       "      <td>7.9250</td>\n",
       "      <td>&lt;NA&gt;</td>\n",
       "      <td>S</td>\n",
       "      <td>Miss</td>\n",
       "      <td>7.92500</td>\n",
       "      <td>&lt;NA&gt;</td>\n",
       "    </tr>\n",
       "    <tr>\n",
       "      <th>3</th>\n",
       "      <td>1</td>\n",
       "      <td>1</td>\n",
       "      <td>Futrelle, Mrs. Jacques Heath (Lily May Peel)</td>\n",
       "      <td>female</td>\n",
       "      <td>35.0</td>\n",
       "      <td>1</td>\n",
       "      <td>0</td>\n",
       "      <td>113803</td>\n",
       "      <td>53.1000</td>\n",
       "      <td>C123</td>\n",
       "      <td>S</td>\n",
       "      <td>Mrs</td>\n",
       "      <td>26.55000</td>\n",
       "      <td>C</td>\n",
       "    </tr>\n",
       "    <tr>\n",
       "      <th>4</th>\n",
       "      <td>0</td>\n",
       "      <td>3</td>\n",
       "      <td>Allen, Mr. William Henry</td>\n",
       "      <td>male</td>\n",
       "      <td>35.0</td>\n",
       "      <td>0</td>\n",
       "      <td>0</td>\n",
       "      <td>373450</td>\n",
       "      <td>8.0500</td>\n",
       "      <td>&lt;NA&gt;</td>\n",
       "      <td>S</td>\n",
       "      <td>Mr</td>\n",
       "      <td>8.05000</td>\n",
       "      <td>&lt;NA&gt;</td>\n",
       "    </tr>\n",
       "  </tbody>\n",
       "</table>\n",
       "</div>"
      ],
      "text/plain": [
       "   Survived  Pclass                                               Name  \\\n",
       "0         0       3                            Braund, Mr. Owen Harris   \n",
       "1         1       1  Cumings, Mrs. John Bradley (Florence Briggs Th...   \n",
       "2         1       3                             Heikkinen, Miss. Laina   \n",
       "3         1       1       Futrelle, Mrs. Jacques Heath (Lily May Peel)   \n",
       "4         0       3                           Allen, Mr. William Henry   \n",
       "\n",
       "      Sex   Age  SibSp  Parch            Ticket     Fare Cabin Embarked Title  \\\n",
       "0    male  22.0      1      0         A/5 21171   7.2500  <NA>        S    Mr   \n",
       "1  female  38.0      1      0          PC 17599  71.2833   C85        C   Mrs   \n",
       "2  female  26.0      0      0  STON/O2. 3101282   7.9250  <NA>        S  Miss   \n",
       "3  female  35.0      1      0            113803  53.1000  C123        S   Mrs   \n",
       "4    male  35.0      0      0            373450   8.0500  <NA>        S    Mr   \n",
       "\n",
       "   FarePerPassenger Cabin Letter  \n",
       "0           3.62500         <NA>  \n",
       "1          35.64165            C  \n",
       "2           7.92500         <NA>  \n",
       "3          26.55000            C  \n",
       "4           8.05000         <NA>  "
      ]
     },
     "execution_count": 8,
     "metadata": {},
     "output_type": "execute_result"
    }
   ],
   "source": [
    "#CREDIT: FIRAT GONEN\n",
    "\n",
    "def fill_age(cols):\n",
    "    Age = cols[0]\n",
    "    Pclass = cols[1]\n",
    "    \n",
    "    if pd.isnull(Age):\n",
    "\n",
    "        if Pclass == 1:\n",
    "            return 37\n",
    "\n",
    "        elif Pclass == 2:\n",
    "            return 29\n",
    "\n",
    "        else:\n",
    "            return 24\n",
    "\n",
    "    else:\n",
    "        return Age\n",
    "    \n",
    "data_df['Age'] = data_df[['Age','Pclass']].apply(fill_age,axis=1)\n",
    "data_test_df['Age'] = data_test_df[['Age','Pclass']].apply(fill_age,axis=1)\n",
    "data_df.head(5)"
   ]
  },
  {
   "cell_type": "code",
   "execution_count": 9,
   "id": "02d5d6e6",
   "metadata": {
    "scrolled": true
   },
   "outputs": [
    {
     "name": "stdout",
     "output_type": "stream",
     "text": [
      "Cabin               687\n",
      "Survived              0\n",
      "Pclass                0\n",
      "Name                  0\n",
      "Sex                   0\n",
      "Age                   0\n",
      "SibSp                 0\n",
      "Parch                 0\n",
      "Ticket                0\n",
      "Fare                  0\n",
      "Embarked              0\n",
      "Title                 0\n",
      "FarePerPassenger      0\n",
      "Cabin Letter          0\n",
      "dtype: int64\n"
     ]
    }
   ],
   "source": [
    "#replacing missing values in Embarked column by modus\n",
    "data_df[\"Embarked\"] = data_df[\"Embarked\"].fillna(\"S\")\n",
    "data_test_df[\"Embarked\"] = data_test_df[\"Embarked\"].fillna(\"S\")\n",
    "\n",
    "#replacing missing values in Cabin column by U (unknown)\n",
    "data_df[\"Cabin Letter\"] = data_df[\"Cabin Letter\"].fillna(\"U\")\n",
    "data_test_df[\"Cabin Letter\"] = data_test_df[\"Cabin Letter\"].fillna(\"U\")\n",
    "\n",
    "missing_data = data_df.isnull().sum()\n",
    "missing_data = missing_data.sort_values(ascending=False)\n",
    "print(missing_data)"
   ]
  },
  {
   "cell_type": "markdown",
   "id": "a3b28d31",
   "metadata": {},
   "source": [
    "Great. We do not have any missing values (We will drop the Cabin column later). "
   ]
  },
  {
   "cell_type": "markdown",
   "id": "3292a558",
   "metadata": {},
   "source": [
    "We got all the information we wanted from the columns Cabin and Name. We will drop them. We will also drop the Ticket and Fare column. "
   ]
  },
  {
   "cell_type": "code",
   "execution_count": 10,
   "id": "028396e4",
   "metadata": {},
   "outputs": [
    {
     "name": "stdout",
     "output_type": "stream",
     "text": [
      "   Survived  Pclass     Sex   Age  SibSp  Parch Embarked   Title  \\\n",
      "0         0       3    male  22.0      1      0        S      Mr   \n",
      "1         1       1  female  38.0      1      0        C     Mrs   \n",
      "2         1       3  female  26.0      0      0        S    Miss   \n",
      "3         1       1  female  35.0      1      0        S     Mrs   \n",
      "4         0       3    male  35.0      0      0        S      Mr   \n",
      "5         0       3    male  24.0      0      0        Q      Mr   \n",
      "6         0       1    male  54.0      0      0        S      Mr   \n",
      "7         0       3    male   2.0      3      1        S  Master   \n",
      "8         1       3  female  27.0      0      2        S     Mrs   \n",
      "9         1       2  female  14.0      1      0        C     Mrs   \n",
      "\n",
      "   FarePerPassenger Cabin Letter  \n",
      "0           3.62500            U  \n",
      "1          35.64165            C  \n",
      "2           7.92500            U  \n",
      "3          26.55000            C  \n",
      "4           8.05000            U  \n",
      "5           8.45830            U  \n",
      "6          51.86250            E  \n",
      "7           4.21500            U  \n",
      "8           3.71110            U  \n",
      "9          15.03540            U  \n",
      "   Pclass     Sex   Age  SibSp  Parch Embarked Title  FarePerPassenger  \\\n",
      "0       3    male  34.5      0      0        Q    Mr          7.829200   \n",
      "1       3  female  47.0      1      0        S   Mrs          3.500000   \n",
      "2       2    male  62.0      0      0        Q    Mr          9.687500   \n",
      "3       3    male  27.0      0      0        S    Mr          8.662500   \n",
      "4       3  female  22.0      1      1        S   Mrs          4.095833   \n",
      "5       3    male  14.0      0      0        S    Mr          9.225000   \n",
      "6       3  female  30.0      0      0        Q  Miss          7.629200   \n",
      "7       2    male  26.0      1      1        S    Mr          9.666667   \n",
      "8       3  female  18.0      0      0        C   Mrs          7.229200   \n",
      "9       3    male  21.0      2      0        S    Mr          8.050000   \n",
      "\n",
      "  Cabin Letter  \n",
      "0            U  \n",
      "1            U  \n",
      "2            U  \n",
      "3            U  \n",
      "4            U  \n",
      "5            U  \n",
      "6            U  \n",
      "7            U  \n",
      "8            U  \n",
      "9            U  \n"
     ]
    }
   ],
   "source": [
    "data_df = data_df.drop([\"Cabin\", \"Name\", \"Ticket\", \"Fare\"], axis=1)\n",
    "data_test_df = data_test_df.drop([\"Cabin\", \"Name\", \"Ticket\", \"Fare\"], axis=1)\n",
    "print(data_df.head(10))\n",
    "print(data_test_df.head(10))"
   ]
  },
  {
   "cell_type": "markdown",
   "id": "72d96645",
   "metadata": {},
   "source": [
    "## <font color='orange'>3. Exploratory data analysis</font>"
   ]
  },
  {
   "cell_type": "markdown",
   "id": "34534e69",
   "metadata": {},
   "source": [
    "Let's plot how were men and women likely to survive."
   ]
  },
  {
   "cell_type": "code",
   "execution_count": 11,
   "id": "201ded8c",
   "metadata": {},
   "outputs": [
    {
     "data": {
      "text/plain": [
       "Text(0.5, 1.0, 'The chance of surviving Titanic based on gender')"
      ]
     },
     "execution_count": 11,
     "metadata": {},
     "output_type": "execute_result"
    },
    {
     "data": {
      "image/png": "[encoded data removed]",
      "text/plain": [
       "<Figure size 432x288 with 1 Axes>"
      ]
     },
     "metadata": {
      "needs_background": "light"
     },
     "output_type": "display_data"
    }
   ],
   "source": [
    "data_df[\"Died\"] = 1 - data_df[\"Survived\"]\n",
    "data_df.groupby(\"Sex\").agg(\"sum\")[[\"Died\", \"Survived\"]].plot(kind=\"bar\", stacked=True)\n",
    "plt.xlabel(\"Gender\")\n",
    "plt.title(\"The chance of surviving Titanic based on gender\")"
   ]
  },
  {
   "cell_type": "markdown",
   "id": "d137c041",
   "metadata": {},
   "source": [
    "If you were female, you were more likely to survive Titanic disaster. Let's now plot the likelyhood of surviving based on class."
   ]
  },
  {
   "cell_type": "code",
   "execution_count": 12,
   "id": "8937becc",
   "metadata": {},
   "outputs": [
    {
     "data": {
      "text/plain": [
       "(array([0, 1, 2]), [Text(0, 0, '1'), Text(1, 0, '2'), Text(2, 0, '3')])"
      ]
     },
     "execution_count": 12,
     "metadata": {},
     "output_type": "execute_result"
    },
    {
     "data": {
      "image/png": "[encoded data removed]",
      "text/plain": [
       "<Figure size 432x288 with 1 Axes>"
      ]
     },
     "metadata": {
      "needs_background": "light"
     },
     "output_type": "display_data"
    }
   ],
   "source": [
    "data_df.groupby(\"Pclass\").agg(\"sum\")[[\"Died\", \"Survived\"]].plot(kind=\"bar\", stacked=True)\n",
    "plt.xlabel(\"Pclass\")\n",
    "plt.title(\"The chance of surviving Titanic based on class\")\n",
    "plt.xticks(rotation=0)"
   ]
  },
  {
   "cell_type": "markdown",
   "id": "bd5142fa",
   "metadata": {},
   "source": [
    "The better class, the higher chance of surviving Titanic crash. We added two new columns to our dataset - cabin letter and title. Let's now plot the chance of surviving based on cabin letter and title."
   ]
  },
  {
   "cell_type": "code",
   "execution_count": 13,
   "id": "ee4582b3",
   "metadata": {},
   "outputs": [
    {
     "data": {
      "text/plain": [
       "Text(0.5, 1.0, 'The chance of surviving Titanic based on cabin letter')"
      ]
     },
     "execution_count": 13,
     "metadata": {},
     "output_type": "execute_result"
    },
    {
     "data": {
      "image/png": "[encoded data removed]",
      "text/plain": [
       "<Figure size 432x288 with 1 Axes>"
      ]
     },
     "metadata": {
      "needs_background": "light"
     },
     "output_type": "display_data"
    }
   ],
   "source": [
    "data_df.groupby(\"Cabin Letter\").agg(\"sum\")[[\"Died\", \"Survived\"]].plot(kind=\"bar\", stacked=True)\n",
    "plt.title(\"The chance of surviving Titanic based on cabin letter\")"
   ]
  },
  {
   "cell_type": "code",
   "execution_count": 14,
   "id": "ec33c1a4",
   "metadata": {},
   "outputs": [
    {
     "data": {
      "text/plain": [
       "Text(0.5, 1.0, 'The chance of surviving Titanic based on title')"
      ]
     },
     "execution_count": 14,
     "metadata": {},
     "output_type": "execute_result"
    },
    {
     "data": {
      "image/png": "[encoded data removed]",
      "text/plain": [
       "<Figure size 432x288 with 1 Axes>"
      ]
     },
     "metadata": {
      "needs_background": "light"
     },
     "output_type": "display_data"
    }
   ],
   "source": [
    "data_df.groupby(\"Title\").agg(\"sum\")[[\"Died\", \"Survived\"]].plot(kind=\"bar\", stacked=True)\n",
    "plt.title(\"The chance of surviving Titanic based on title\")"
   ]
  },
  {
   "cell_type": "markdown",
   "id": "7d65c777",
   "metadata": {},
   "source": [
    "We can see that title and cabin class can affect little bit our survival chances. For example, we can see that people who had title Master had higher chance of surviving the crash than people with title Mr. In the second plot we could see that people who were in the cabin letters D and E had better chance of surviving than people whose cabin letter is unknown(U)."
   ]
  },
  {
   "cell_type": "code",
   "execution_count": 15,
   "id": "c09f2d63",
   "metadata": {},
   "outputs": [],
   "source": [
    "#dropping died column\n",
    "data_df = data_df.drop(\"Died\", axis=1)"
   ]
  },
  {
   "cell_type": "markdown",
   "id": "42f11b9e",
   "metadata": {},
   "source": [
    "I did not expect that correlation between FarePerPassenger and Survived column. I thought that it would be below 0.10. "
   ]
  },
  {
   "cell_type": "code",
   "execution_count": 16,
   "id": "7ea20726",
   "metadata": {},
   "outputs": [
    {
     "data": {
      "text/plain": [
       "<matplotlib.legend.Legend at 0x2082f524b50>"
      ]
     },
     "execution_count": 16,
     "metadata": {},
     "output_type": "execute_result"
    },
    {
     "data": {
      "image/png": "[encoded data removed]",
      "text/plain": [
       "<Figure size 432x288 with 1 Axes>"
      ]
     },
     "metadata": {
      "needs_background": "light"
     },
     "output_type": "display_data"
    }
   ],
   "source": [
    "data_df.groupby('Sex')[\"Age\"].plot(kind='kde')\n",
    "plt.title(\"The distribution of age\")\n",
    "plt.legend()"
   ]
  },
  {
   "cell_type": "markdown",
   "id": "be6d815f",
   "metadata": {},
   "source": [
    "## <font color='orange'>4. Feature engineering</font>"
   ]
  },
  {
   "cell_type": "code",
   "execution_count": 17,
   "id": "ba569e3a",
   "metadata": {},
   "outputs": [
    {
     "data": {
      "text/html": [
       "<div>\n",
       "<style scoped>\n",
       "    .dataframe tbody tr th:only-of-type {\n",
       "        vertical-align: middle;\n",
       "    }\n",
       "\n",
       "    .dataframe tbody tr th {\n",
       "        vertical-align: top;\n",
       "    }\n",
       "\n",
       "    .dataframe thead th {\n",
       "        text-align: right;\n",
       "    }\n",
       "</style>\n",
       "<table border=\"1\" class=\"dataframe\">\n",
       "  <thead>\n",
       "    <tr style=\"text-align: right;\">\n",
       "      <th></th>\n",
       "      <th>Pclass</th>\n",
       "      <th>Sex</th>\n",
       "      <th>Age</th>\n",
       "      <th>SibSp</th>\n",
       "      <th>Parch</th>\n",
       "      <th>Embarked</th>\n",
       "      <th>Title</th>\n",
       "      <th>FarePerPassenger</th>\n",
       "      <th>Cabin Letter</th>\n",
       "    </tr>\n",
       "  </thead>\n",
       "  <tbody>\n",
       "    <tr>\n",
       "      <th>0</th>\n",
       "      <td>3</td>\n",
       "      <td>1</td>\n",
       "      <td>34.5</td>\n",
       "      <td>0</td>\n",
       "      <td>0</td>\n",
       "      <td>2</td>\n",
       "      <td>0</td>\n",
       "      <td>7.829200</td>\n",
       "      <td>8</td>\n",
       "    </tr>\n",
       "    <tr>\n",
       "      <th>1</th>\n",
       "      <td>3</td>\n",
       "      <td>0</td>\n",
       "      <td>47.0</td>\n",
       "      <td>1</td>\n",
       "      <td>0</td>\n",
       "      <td>0</td>\n",
       "      <td>1</td>\n",
       "      <td>3.500000</td>\n",
       "      <td>8</td>\n",
       "    </tr>\n",
       "    <tr>\n",
       "      <th>2</th>\n",
       "      <td>2</td>\n",
       "      <td>1</td>\n",
       "      <td>62.0</td>\n",
       "      <td>0</td>\n",
       "      <td>0</td>\n",
       "      <td>2</td>\n",
       "      <td>0</td>\n",
       "      <td>9.687500</td>\n",
       "      <td>8</td>\n",
       "    </tr>\n",
       "    <tr>\n",
       "      <th>3</th>\n",
       "      <td>3</td>\n",
       "      <td>1</td>\n",
       "      <td>27.0</td>\n",
       "      <td>0</td>\n",
       "      <td>0</td>\n",
       "      <td>0</td>\n",
       "      <td>0</td>\n",
       "      <td>8.662500</td>\n",
       "      <td>8</td>\n",
       "    </tr>\n",
       "    <tr>\n",
       "      <th>4</th>\n",
       "      <td>3</td>\n",
       "      <td>0</td>\n",
       "      <td>22.0</td>\n",
       "      <td>1</td>\n",
       "      <td>1</td>\n",
       "      <td>0</td>\n",
       "      <td>1</td>\n",
       "      <td>4.095833</td>\n",
       "      <td>8</td>\n",
       "    </tr>\n",
       "    <tr>\n",
       "      <th>5</th>\n",
       "      <td>3</td>\n",
       "      <td>1</td>\n",
       "      <td>14.0</td>\n",
       "      <td>0</td>\n",
       "      <td>0</td>\n",
       "      <td>0</td>\n",
       "      <td>0</td>\n",
       "      <td>9.225000</td>\n",
       "      <td>8</td>\n",
       "    </tr>\n",
       "    <tr>\n",
       "      <th>6</th>\n",
       "      <td>3</td>\n",
       "      <td>0</td>\n",
       "      <td>30.0</td>\n",
       "      <td>0</td>\n",
       "      <td>0</td>\n",
       "      <td>2</td>\n",
       "      <td>2</td>\n",
       "      <td>7.629200</td>\n",
       "      <td>8</td>\n",
       "    </tr>\n",
       "    <tr>\n",
       "      <th>7</th>\n",
       "      <td>2</td>\n",
       "      <td>1</td>\n",
       "      <td>26.0</td>\n",
       "      <td>1</td>\n",
       "      <td>1</td>\n",
       "      <td>0</td>\n",
       "      <td>0</td>\n",
       "      <td>9.666667</td>\n",
       "      <td>8</td>\n",
       "    </tr>\n",
       "    <tr>\n",
       "      <th>8</th>\n",
       "      <td>3</td>\n",
       "      <td>0</td>\n",
       "      <td>18.0</td>\n",
       "      <td>0</td>\n",
       "      <td>0</td>\n",
       "      <td>1</td>\n",
       "      <td>1</td>\n",
       "      <td>7.229200</td>\n",
       "      <td>8</td>\n",
       "    </tr>\n",
       "    <tr>\n",
       "      <th>9</th>\n",
       "      <td>3</td>\n",
       "      <td>1</td>\n",
       "      <td>21.0</td>\n",
       "      <td>2</td>\n",
       "      <td>0</td>\n",
       "      <td>0</td>\n",
       "      <td>0</td>\n",
       "      <td>8.050000</td>\n",
       "      <td>8</td>\n",
       "    </tr>\n",
       "    <tr>\n",
       "      <th>10</th>\n",
       "      <td>3</td>\n",
       "      <td>1</td>\n",
       "      <td>24.0</td>\n",
       "      <td>0</td>\n",
       "      <td>0</td>\n",
       "      <td>0</td>\n",
       "      <td>0</td>\n",
       "      <td>7.895800</td>\n",
       "      <td>8</td>\n",
       "    </tr>\n",
       "    <tr>\n",
       "      <th>11</th>\n",
       "      <td>1</td>\n",
       "      <td>1</td>\n",
       "      <td>46.0</td>\n",
       "      <td>0</td>\n",
       "      <td>0</td>\n",
       "      <td>0</td>\n",
       "      <td>0</td>\n",
       "      <td>26.000000</td>\n",
       "      <td>8</td>\n",
       "    </tr>\n",
       "    <tr>\n",
       "      <th>12</th>\n",
       "      <td>1</td>\n",
       "      <td>0</td>\n",
       "      <td>23.0</td>\n",
       "      <td>1</td>\n",
       "      <td>0</td>\n",
       "      <td>0</td>\n",
       "      <td>1</td>\n",
       "      <td>41.133350</td>\n",
       "      <td>1</td>\n",
       "    </tr>\n",
       "    <tr>\n",
       "      <th>13</th>\n",
       "      <td>2</td>\n",
       "      <td>1</td>\n",
       "      <td>63.0</td>\n",
       "      <td>1</td>\n",
       "      <td>0</td>\n",
       "      <td>0</td>\n",
       "      <td>0</td>\n",
       "      <td>13.000000</td>\n",
       "      <td>8</td>\n",
       "    </tr>\n",
       "    <tr>\n",
       "      <th>14</th>\n",
       "      <td>1</td>\n",
       "      <td>0</td>\n",
       "      <td>47.0</td>\n",
       "      <td>1</td>\n",
       "      <td>0</td>\n",
       "      <td>0</td>\n",
       "      <td>1</td>\n",
       "      <td>30.587500</td>\n",
       "      <td>4</td>\n",
       "    </tr>\n",
       "    <tr>\n",
       "      <th>15</th>\n",
       "      <td>2</td>\n",
       "      <td>0</td>\n",
       "      <td>24.0</td>\n",
       "      <td>1</td>\n",
       "      <td>0</td>\n",
       "      <td>1</td>\n",
       "      <td>1</td>\n",
       "      <td>13.860400</td>\n",
       "      <td>8</td>\n",
       "    </tr>\n",
       "    <tr>\n",
       "      <th>16</th>\n",
       "      <td>2</td>\n",
       "      <td>1</td>\n",
       "      <td>35.0</td>\n",
       "      <td>0</td>\n",
       "      <td>0</td>\n",
       "      <td>2</td>\n",
       "      <td>0</td>\n",
       "      <td>12.350000</td>\n",
       "      <td>8</td>\n",
       "    </tr>\n",
       "    <tr>\n",
       "      <th>17</th>\n",
       "      <td>3</td>\n",
       "      <td>1</td>\n",
       "      <td>21.0</td>\n",
       "      <td>0</td>\n",
       "      <td>0</td>\n",
       "      <td>1</td>\n",
       "      <td>0</td>\n",
       "      <td>7.225000</td>\n",
       "      <td>8</td>\n",
       "    </tr>\n",
       "    <tr>\n",
       "      <th>18</th>\n",
       "      <td>3</td>\n",
       "      <td>0</td>\n",
       "      <td>27.0</td>\n",
       "      <td>1</td>\n",
       "      <td>0</td>\n",
       "      <td>0</td>\n",
       "      <td>2</td>\n",
       "      <td>3.962500</td>\n",
       "      <td>8</td>\n",
       "    </tr>\n",
       "    <tr>\n",
       "      <th>19</th>\n",
       "      <td>3</td>\n",
       "      <td>0</td>\n",
       "      <td>45.0</td>\n",
       "      <td>0</td>\n",
       "      <td>0</td>\n",
       "      <td>1</td>\n",
       "      <td>1</td>\n",
       "      <td>7.225000</td>\n",
       "      <td>8</td>\n",
       "    </tr>\n",
       "  </tbody>\n",
       "</table>\n",
       "</div>"
      ],
      "text/plain": [
       "    Pclass  Sex   Age  SibSp  Parch  Embarked  Title  FarePerPassenger  \\\n",
       "0        3    1  34.5      0      0         2      0          7.829200   \n",
       "1        3    0  47.0      1      0         0      1          3.500000   \n",
       "2        2    1  62.0      0      0         2      0          9.687500   \n",
       "3        3    1  27.0      0      0         0      0          8.662500   \n",
       "4        3    0  22.0      1      1         0      1          4.095833   \n",
       "5        3    1  14.0      0      0         0      0          9.225000   \n",
       "6        3    0  30.0      0      0         2      2          7.629200   \n",
       "7        2    1  26.0      1      1         0      0          9.666667   \n",
       "8        3    0  18.0      0      0         1      1          7.229200   \n",
       "9        3    1  21.0      2      0         0      0          8.050000   \n",
       "10       3    1  24.0      0      0         0      0          7.895800   \n",
       "11       1    1  46.0      0      0         0      0         26.000000   \n",
       "12       1    0  23.0      1      0         0      1         41.133350   \n",
       "13       2    1  63.0      1      0         0      0         13.000000   \n",
       "14       1    0  47.0      1      0         0      1         30.587500   \n",
       "15       2    0  24.0      1      0         1      1         13.860400   \n",
       "16       2    1  35.0      0      0         2      0         12.350000   \n",
       "17       3    1  21.0      0      0         1      0          7.225000   \n",
       "18       3    0  27.0      1      0         0      2          3.962500   \n",
       "19       3    0  45.0      0      0         1      1          7.225000   \n",
       "\n",
       "    Cabin Letter  \n",
       "0              8  \n",
       "1              8  \n",
       "2              8  \n",
       "3              8  \n",
       "4              8  \n",
       "5              8  \n",
       "6              8  \n",
       "7              8  \n",
       "8              8  \n",
       "9              8  \n",
       "10             8  \n",
       "11             8  \n",
       "12             1  \n",
       "13             8  \n",
       "14             4  \n",
       "15             8  \n",
       "16             8  \n",
       "17             8  \n",
       "18             8  \n",
       "19             8  "
      ]
     },
     "execution_count": 17,
     "metadata": {},
     "output_type": "execute_result"
    }
   ],
   "source": [
    "#replacing 0 for male and 1 for female\n",
    "data_df[\"Sex\"] = data_df[\"Sex\"].replace(\"female\", 0)\n",
    "data_df[\"Sex\"] = data_df[\"Sex\"].replace(\"male\", 1)\n",
    "data_df[\"Sex\"] = data_df[\"Sex\"].astype(\"int64\")\n",
    "\n",
    "#test data\n",
    "data_test_df[\"Sex\"] = data_test_df[\"Sex\"].replace(\"female\", 0)\n",
    "data_test_df[\"Sex\"] = data_test_df[\"Sex\"].replace(\"male\", 1)\n",
    "data_test_df[\"Sex\"] = data_test_df[\"Sex\"].astype(\"int64\")\n",
    "\n",
    "#replacing Embarked\n",
    "data_df[\"Embarked\"] = data_df[\"Embarked\"].replace(\"S\", 0)\n",
    "data_df[\"Embarked\"] = data_df[\"Embarked\"].replace(\"C\", 1)\n",
    "data_df[\"Embarked\"] = data_df[\"Embarked\"].replace(\"Q\", 2)\n",
    "data_df[\"Sex\"] = data_df[\"Sex\"].astype(\"int64\")\n",
    "\n",
    "#test data\n",
    "data_test_df[\"Embarked\"] = data_test_df[\"Embarked\"].replace(\"S\", 0)\n",
    "data_test_df[\"Embarked\"] = data_test_df[\"Embarked\"].replace(\"C\", 1)\n",
    "data_test_df[\"Embarked\"] = data_test_df[\"Embarked\"].replace(\"Q\", 2)\n",
    "data_test_df[\"Sex\"] = data_test_df[\"Sex\"].astype(\"int64\")\n",
    "\n",
    "#replacing cabin\n",
    "data_df[\"Cabin Letter\"] = data_df[\"Cabin Letter\"].astype(\"object\")\n",
    "x = 0\n",
    "for letter in [\"A\", \"B\", \"C\", \"D\", \"E\", \"F\", \"G\", \"T\", \"U\"]:\n",
    "    data_df[\"Cabin Letter\"] = data_df[\"Cabin Letter\"].replace(letter, x)\n",
    "    x = x + 1\n",
    "data_df[\"Cabin Letter\"] = data_df[\"Cabin Letter\"].astype(\"int64\")\n",
    "\n",
    "#test data\n",
    "data_test_df[\"Cabin Letter\"] = data_test_df[\"Cabin Letter\"].astype(\"object\")\n",
    "x = 0\n",
    "for letter in [\"A\", \"B\", \"C\", \"D\", \"E\", \"F\", \"G\", \"T\", \"U\"]:\n",
    "    data_test_df[\"Cabin Letter\"] = data_test_df[\"Cabin Letter\"].replace(letter, x)\n",
    "    x = x + 1\n",
    "data_test_df[\"Cabin Letter\"] = data_test_df[\"Cabin Letter\"].astype(\"int64\")\n",
    "\n",
    "#replacing Title column\n",
    "y = 0\n",
    "for letter in data_df[\"Title\"].unique():\n",
    "    data_df[\"Title\"] = data_df[\"Title\"].replace(letter, y)\n",
    "    y = y + 1\n",
    "data_df[\"Title\"] = data_df[\"Title\"].astype(\"int64\")\n",
    "\n",
    "#test data\n",
    "y = 0\n",
    "for letter in data_test_df[\"Title\"].unique():\n",
    "    data_test_df[\"Title\"] = data_test_df[\"Title\"].replace(letter, y)\n",
    "    y = y + 1\n",
    "data_test_df[\"Title\"] = data_test_df[\"Title\"].astype(\"int64\")\n",
    "\n",
    "data_test_df.head(20)"
   ]
  },
  {
   "cell_type": "code",
   "execution_count": 18,
   "id": "3afa5b8d",
   "metadata": {},
   "outputs": [
    {
     "name": "stdout",
     "output_type": "stream",
     "text": [
      "FarePerPassenger    1\n",
      "Pclass              0\n",
      "Sex                 0\n",
      "Age                 0\n",
      "SibSp               0\n",
      "Parch               0\n",
      "Embarked            0\n",
      "Title               0\n",
      "Cabin Letter        0\n",
      "dtype: int64\n"
     ]
    }
   ],
   "source": [
    "missing_data = data_test_df.isnull().sum()\n",
    "missing_data = missing_data.sort_values(ascending=False)\n",
    "print(missing_data)"
   ]
  },
  {
   "cell_type": "code",
   "execution_count": 19,
   "id": "9e13e3e8",
   "metadata": {},
   "outputs": [],
   "source": [
    "median = data_test_df[\"FarePerPassenger\"].median()\n",
    "data_test_df[\"FarePerPassenger\"] = data_test_df[\"FarePerPassenger\"].fillna(median)"
   ]
  },
  {
   "cell_type": "code",
   "execution_count": 20,
   "id": "17b8f14d",
   "metadata": {},
   "outputs": [
    {
     "name": "stdout",
     "output_type": "stream",
     "text": [
      "Pclass              0\n",
      "Sex                 0\n",
      "Age                 0\n",
      "SibSp               0\n",
      "Parch               0\n",
      "Embarked            0\n",
      "Title               0\n",
      "FarePerPassenger    0\n",
      "Cabin Letter        0\n",
      "dtype: int64\n"
     ]
    }
   ],
   "source": [
    "missing_data = data_test_df.isnull().sum()\n",
    "missing_data = missing_data.sort_values(ascending=False)\n",
    "print(missing_data)"
   ]
  },
  {
   "cell_type": "code",
   "execution_count": 21,
   "id": "a2809196",
   "metadata": {},
   "outputs": [
    {
     "data": {
      "image/png": "[encoded data removed]",
      "text/plain": [
       "<Figure size 1080x720 with 2 Axes>"
      ]
     },
     "metadata": {
      "needs_background": "light"
     },
     "output_type": "display_data"
    }
   ],
   "source": [
    "#correlation matrix\n",
    "corrMatrix = data_df.corr()\n",
    "f, ax = plt.subplots(figsize = (15, 10))\n",
    "sns.heatmap(corrMatrix, annot=True)\n",
    "plt.show()"
   ]
  },
  {
   "cell_type": "markdown",
   "id": "93092145",
   "metadata": {},
   "source": [
    "## <font color='orange'>4. Machine learning</font>"
   ]
  },
  {
   "cell_type": "code",
   "execution_count": 22,
   "id": "10f581a0",
   "metadata": {},
   "outputs": [
    {
     "name": "stdout",
     "output_type": "stream",
     "text": [
      "0.6940298507462687\n",
      "[[133  32]\n",
      " [ 50  53]]\n"
     ]
    }
   ],
   "source": [
    "X = data_df.drop(\"Survived\", axis=1).values\n",
    "y = data_df[\"Survived\"].values\n",
    "\n",
    "X_train, X_test, y_train, y_test = train_test_split(X, y, test_size=0.3, random_state=42, stratify=y)\n",
    "\n",
    "knn = KNeighborsClassifier(n_neighbors = 15)\n",
    "knn.fit(X_train, y_train)\n",
    "\n",
    "score = knn.score(X_test, y_test)\n",
    "y_pred = knn.predict(X_test)\n",
    "print(score)\n",
    "print(confusion_matrix(y_test, y_pred))"
   ]
  },
  {
   "cell_type": "code",
   "execution_count": 23,
   "id": "f688e874",
   "metadata": {},
   "outputs": [
    {
     "data": {
      "text/plain": [
       "0.7396305701674829"
      ]
     },
     "execution_count": 23,
     "metadata": {},
     "output_type": "execute_result"
    }
   ],
   "source": [
    "kf = KFold(n_splits=6, shuffle=True, random_state=43)\n",
    "\n",
    "knn = KNeighborsClassifier(n_neighbors = 8)\n",
    "cv_result = cross_val_score(knn, X, y, cv=kf)\n",
    "cv_result.mean()"
   ]
  },
  {
   "cell_type": "code",
   "execution_count": 24,
   "id": "5fa855ea",
   "metadata": {},
   "outputs": [
    {
     "data": {
      "text/plain": [
       "0.7867918253824294"
      ]
     },
     "execution_count": 24,
     "metadata": {},
     "output_type": "execute_result"
    }
   ],
   "source": [
    "clf = svm.SVC(kernel='linear')\n",
    "cv_result = cross_val_score(clf, X, y, cv=kf)\n",
    "cv_result.mean()"
   ]
  },
  {
   "cell_type": "code",
   "execution_count": 25,
   "id": "d7fc9fb1",
   "metadata": {},
   "outputs": [
    {
     "name": "stderr",
     "output_type": "stream",
     "text": [
      "C:\\Users\\sembm\\anaconda3\\lib\\site-packages\\sklearn\\linear_model\\_logistic.py:814: ConvergenceWarning: lbfgs failed to converge (status=1):\n",
      "STOP: TOTAL NO. of ITERATIONS REACHED LIMIT.\n",
      "\n",
      "Increase the number of iterations (max_iter) or scale the data as shown in:\n",
      "    https://scikit-learn.org/stable/modules/preprocessing.html\n",
      "Please also refer to the documentation for alternative solver options:\n",
      "    https://scikit-learn.org/stable/modules/linear_model.html#logistic-regression\n",
      "  n_iter_i = _check_optimize_result(\n"
     ]
    },
    {
     "data": {
      "image/png": "[encoded data removed]",
      "text/plain": [
       "<Figure size 432x288 with 1 Axes>"
      ]
     },
     "metadata": {
      "needs_background": "light"
     },
     "output_type": "display_data"
    },
    {
     "name": "stdout",
     "output_type": "stream",
     "text": [
      "0.8509855839952929\n"
     ]
    }
   ],
   "source": [
    "logreg = LogisticRegression()\n",
    "logreg.fit(X_train, y_train)\n",
    "y_pred_probs = logreg.predict_proba(X_test)[:, 1]\n",
    "fpr, tpr, thresholds = roc_curve(y_test, y_pred_probs)\n",
    "plt.plot([0, 1], [0, 1], 'k--')\n",
    "plt.plot(fpr, tpr)\n",
    "plt.xlabel(\"False Positive Rate\")\n",
    "plt.ylabel(\"True Positive Rate\")\n",
    "plt.title(\"Logistic Regression ROC curve\")\n",
    "plt.show()\n",
    "\n",
    "print(roc_auc_score(y_test, y_pred_probs))"
   ]
  },
  {
   "cell_type": "code",
   "execution_count": 26,
   "id": "f701f4a6",
   "metadata": {},
   "outputs": [
    {
     "data": {
      "text/plain": [
       "array([0.80536913, 0.81879195, 0.79865772, 0.80405405, 0.77702703,\n",
       "       0.83108108])"
      ]
     },
     "execution_count": 26,
     "metadata": {},
     "output_type": "execute_result"
    }
   ],
   "source": [
    "forest = RandomForestClassifier()\n",
    "cv_result = cross_val_score(forest, X, y, cv=kf)\n",
    "cv_result"
   ]
  },
  {
   "cell_type": "code",
   "execution_count": 27,
   "id": "5fa33b9e",
   "metadata": {},
   "outputs": [
    {
     "data": {
      "text/plain": [
       "SVC(C=10, gamma=1e-05, kernel='linear')"
      ]
     },
     "execution_count": 27,
     "metadata": {},
     "output_type": "execute_result"
    }
   ],
   "source": [
    "from sklearn.svm import SVC\n",
    "\n",
    "SVM_KERNEL = \"linear\"\n",
    "SVM_C = 10\n",
    "SVM_GAMMA = 0.00001\n",
    "\n",
    "X = data_df.drop(\"Survived\", axis=1).values\n",
    "y = data_df[\"Survived\"].values\n",
    "\n",
    "svm_model = SVC(kernel = SVM_KERNEL, C = SVM_C, gamma = SVM_GAMMA)\n",
    "svm_model.fit(X, y)"
   ]
  },
  {
   "cell_type": "code",
   "execution_count": 29,
   "id": "bd57444c",
   "metadata": {},
   "outputs": [
    {
     "name": "stderr",
     "output_type": "stream",
     "text": [
      "C:\\Users\\sembm\\anaconda3\\lib\\site-packages\\sklearn\\base.py:443: UserWarning: X has feature names, but SVC was fitted without feature names\n",
      "  warnings.warn(\n"
     ]
    },
    {
     "data": {
      "text/plain": [
       "array([0, 1, 0, 0, 1, 0, 1, 0, 1, 0, 0, 0, 1, 0, 1, 1, 0, 0, 1, 1, 0, 0,\n",
       "       1, 0, 1, 0, 1, 0, 0, 0, 0, 0, 1, 1, 0, 0, 1, 1, 0, 0, 0, 0, 0, 1,\n",
       "       1, 0, 0, 0, 1, 1, 0, 0, 1, 1, 0, 0, 0, 0, 0, 1, 0, 0, 0, 1, 0, 1,\n",
       "       1, 0, 0, 1, 1, 0, 1, 0, 1, 0, 0, 1, 0, 1, 0, 0, 0, 0, 0, 0, 1, 1,\n",
       "       1, 0, 1, 0, 1, 0, 0, 0, 1, 0, 1, 0, 1, 0, 0, 0, 1, 0, 0, 0, 0, 0,\n",
       "       0, 1, 1, 1, 1, 0, 0, 1, 0, 1, 1, 0, 1, 0, 0, 1, 0, 1, 0, 0, 0, 0,\n",
       "       1, 0, 0, 0, 0, 0, 1, 0, 1, 1, 0, 0, 0, 0, 0, 0, 0, 0, 1, 0, 0, 1,\n",
       "       0, 0, 1, 1, 0, 1, 1, 0, 1, 0, 0, 1, 0, 0, 1, 1, 0, 0, 0, 0, 0, 1,\n",
       "       1, 0, 1, 1, 0, 0, 1, 0, 1, 0, 1, 0, 1, 0, 0, 0, 0, 0, 0, 0, 0, 1,\n",
       "       0, 1, 1, 0, 0, 1, 0, 0, 1, 0, 1, 0, 0, 0, 0, 1, 1, 0, 1, 0, 1, 0,\n",
       "       1, 0, 1, 0, 1, 1, 0, 1, 0, 0, 0, 1, 0, 0, 0, 0, 0, 0, 1, 1, 1, 1,\n",
       "       0, 0, 0, 0, 1, 0, 1, 1, 1, 0, 0, 0, 0, 0, 0, 0, 1, 0, 0, 0, 1, 1,\n",
       "       0, 0, 0, 0, 1, 0, 0, 0, 1, 1, 0, 1, 0, 0, 0, 0, 1, 0, 1, 1, 1, 0,\n",
       "       0, 0, 0, 0, 0, 1, 0, 0, 0, 0, 1, 0, 0, 0, 0, 0, 0, 0, 1, 1, 0, 0,\n",
       "       0, 1, 0, 0, 0, 1, 1, 1, 0, 0, 0, 0, 0, 0, 0, 0, 1, 0, 1, 0, 0, 0,\n",
       "       1, 0, 0, 1, 0, 0, 0, 0, 0, 0, 0, 0, 0, 1, 0, 1, 0, 1, 0, 1, 1, 0,\n",
       "       0, 0, 1, 0, 1, 0, 0, 1, 0, 1, 1, 0, 1, 1, 0, 1, 1, 0, 0, 1, 0, 0,\n",
       "       1, 1, 1, 0, 0, 0, 0, 0, 1, 1, 0, 1, 0, 0, 0, 0, 0, 1, 0, 0, 0, 1,\n",
       "       0, 1, 0, 0, 1, 0, 1, 0, 0, 0, 0, 0, 1, 1, 1, 1, 1, 0, 1, 0, 0, 0],\n",
       "      dtype=int64)"
      ]
     },
     "execution_count": 29,
     "metadata": {},
     "output_type": "execute_result"
    }
   ],
   "source": [
    "y_pred = svm_model.predict(data_test_df)\n",
    "y_pred"
   ]
  },
  {
   "cell_type": "code",
   "execution_count": 30,
   "id": "b9a32e83",
   "metadata": {},
   "outputs": [
    {
     "name": "stdout",
     "output_type": "stream",
     "text": [
      "   PassengerId\n",
      "0          892\n",
      "1          893\n",
      "2          894\n",
      "3          895\n",
      "4          896\n",
      "5          897\n",
      "6          898\n",
      "7          899\n",
      "8          900\n",
      "9          901\n"
     ]
    }
   ],
   "source": [
    "result = pd.DataFrame(data_test_2_df['PassengerId'])\n",
    "print(result.head(10))"
   ]
  },
  {
   "cell_type": "code",
   "execution_count": 31,
   "id": "91428745",
   "metadata": {},
   "outputs": [
    {
     "name": "stdout",
     "output_type": "stream",
     "text": [
      "   PassengerId  Survived\n",
      "0          892         0\n",
      "1          893         1\n",
      "2          894         0\n",
      "3          895         0\n",
      "4          896         1\n",
      "5          897         0\n",
      "6          898         1\n",
      "7          899         0\n",
      "8          900         1\n",
      "9          901         0\n"
     ]
    }
   ],
   "source": [
    "result.insert(1, \"Survived\", y_pred, True)\n",
    "result[\"Survived\"] = pd.to_numeric(result[\"Survived\"], downcast=\"integer\")\n",
    "print(result.head(10))"
   ]
  },
  {
   "cell_type": "code",
   "execution_count": 32,
   "id": "b127ae7a",
   "metadata": {},
   "outputs": [
    {
     "data": {
      "text/html": [
       "<div>\n",
       "<style scoped>\n",
       "    .dataframe tbody tr th:only-of-type {\n",
       "        vertical-align: middle;\n",
       "    }\n",
       "\n",
       "    .dataframe tbody tr th {\n",
       "        vertical-align: top;\n",
       "    }\n",
       "\n",
       "    .dataframe thead th {\n",
       "        text-align: right;\n",
       "    }\n",
       "</style>\n",
       "<table border=\"1\" class=\"dataframe\">\n",
       "  <thead>\n",
       "    <tr style=\"text-align: right;\">\n",
       "      <th></th>\n",
       "      <th>Survived</th>\n",
       "    </tr>\n",
       "    <tr>\n",
       "      <th>PassengerId</th>\n",
       "      <th></th>\n",
       "    </tr>\n",
       "  </thead>\n",
       "  <tbody>\n",
       "    <tr>\n",
       "      <th>892</th>\n",
       "      <td>0</td>\n",
       "    </tr>\n",
       "    <tr>\n",
       "      <th>893</th>\n",
       "      <td>1</td>\n",
       "    </tr>\n",
       "    <tr>\n",
       "      <th>894</th>\n",
       "      <td>0</td>\n",
       "    </tr>\n",
       "    <tr>\n",
       "      <th>895</th>\n",
       "      <td>0</td>\n",
       "    </tr>\n",
       "    <tr>\n",
       "      <th>896</th>\n",
       "      <td>1</td>\n",
       "    </tr>\n",
       "  </tbody>\n",
       "</table>\n",
       "</div>"
      ],
      "text/plain": [
       "             Survived\n",
       "PassengerId          \n",
       "892                 0\n",
       "893                 1\n",
       "894                 0\n",
       "895                 0\n",
       "896                 1"
      ]
     },
     "execution_count": 32,
     "metadata": {},
     "output_type": "execute_result"
    }
   ],
   "source": [
    "result = result.set_index('PassengerId')\n",
    "result.head()"
   ]
  },
  {
   "cell_type": "code",
   "execution_count": null,
   "id": "a1c014ff",
   "metadata": {},
   "outputs": [],
   "source": [
    "result.to_csv(\"Titanic_result_random_forest.csv\", index=True)"
   ]
  }
 ],
 "metadata": {
  "kernelspec": {
   "display_name": "Python 3 (ipykernel)",
   "language": "python",
   "name": "python3"
  },
  "language_info": {
   "codemirror_mode": {
    "name": "ipython",
    "version": 3
   },
   "file_extension": ".py",
   "mimetype": "text/x-python",
   "name": "python",
   "nbconvert_exporter": "python",
   "pygments_lexer": "ipython3",
   "version": "3.9.12"
  }
 },
 "nbformat": 4,
 "nbformat_minor": 5
}
